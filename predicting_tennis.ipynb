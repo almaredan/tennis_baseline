{
 "cells": [
  {
   "cell_type": "markdown",
   "metadata": {},
   "source": [
    "Берутся данные [отсюда](http://www.tennis-data.co.uk/alldata.php)"
   ]
  },
  {
   "cell_type": "markdown",
   "metadata": {},
   "source": [
    "Описание данных имеется [здесь](http://www.tennis-data.co.uk/notes.txt)"
   ]
  },
  {
   "cell_type": "code",
   "execution_count": 1,
   "metadata": {},
   "outputs": [],
   "source": [
    "import pandas as pd\n",
    "import numpy as np\n",
    "import os"
   ]
  },
  {
   "cell_type": "code",
   "execution_count": 2,
   "metadata": {},
   "outputs": [],
   "source": [
    "from sklearn.linear_model import LogisticRegression\n",
    "from sklearn.model_selection import cross_val_score\n",
    "from sklearn.metrics import f1_score"
   ]
  },
  {
   "cell_type": "code",
   "execution_count": 3,
   "metadata": {},
   "outputs": [],
   "source": [
    "files = os.listdir('./data')"
   ]
  },
  {
   "cell_type": "code",
   "execution_count": 4,
   "metadata": {},
   "outputs": [
    {
     "data": {
      "text/plain": [
       "['2019.csv', '2017.csv', '2018.csv', '2016.csv', '2015.csv']"
      ]
     },
     "execution_count": 4,
     "metadata": {},
     "output_type": "execute_result"
    }
   ],
   "source": [
    "files"
   ]
  },
  {
   "cell_type": "code",
   "execution_count": 5,
   "metadata": {},
   "outputs": [],
   "source": [
    "df = pd.read_csv('data/'+files[-1])\n",
    "for file in files[-2::-1]:\n",
    "    df = pd.concat((df, pd.read_csv('data/'+file)), axis=0, sort=False)"
   ]
  },
  {
   "cell_type": "markdown",
   "metadata": {},
   "source": [
    "Попробуем предсказать, кто победит в самой последней имеющейся игре. Для этого будем делать отдельные модели для каждого игрока."
   ]
  },
  {
   "cell_type": "code",
   "execution_count": 6,
   "metadata": {},
   "outputs": [
    {
     "data": {
      "text/plain": [
       "ATP                        64\n",
       "Location               Vienna\n",
       "Tournament    Erste Bank Open\n",
       "Date               27.10.2019\n",
       "Series                 ATP500\n",
       "Court                  Indoor\n",
       "Surface                  Hard\n",
       "Round               The Final\n",
       "Best of                     3\n",
       "Winner               Thiem D.\n",
       "Loser          Schwartzman D.\n",
       "WRank                       5\n",
       "LRank                      15\n",
       "WPts                     5085\n",
       "LPts                     1950\n",
       "W1                          3\n",
       "L1                          6\n",
       "W2                          6\n",
       "L2                          4\n",
       "W3                          6\n",
       "L3                          3\n",
       "W4                        NaN\n",
       "L4                        NaN\n",
       "W5                        NaN\n",
       "L5                        NaN\n",
       "Wsets                       2\n",
       "Lsets                       1\n",
       "Comment             Completed\n",
       "B365W                    1.28\n",
       "B365L                    3.75\n",
       "EXW                       NaN\n",
       "EXL                       NaN\n",
       "LBW                       NaN\n",
       "LBL                       NaN\n",
       "PSW                      1.32\n",
       "PSL                       3.8\n",
       "MaxW                     1.33\n",
       "MaxL                     3.88\n",
       "AvgW                     1.29\n",
       "AvgL                     3.63\n",
       "Name: 2547, dtype: object"
      ]
     },
     "execution_count": 6,
     "metadata": {},
     "output_type": "execute_result"
    }
   ],
   "source": [
    "df.iloc[-1]"
   ]
  },
  {
   "cell_type": "markdown",
   "metadata": {},
   "source": [
    "На момент начала игры нам достпны следующие данные:\n",
    "    1. Имена игроков: Thiem D. и Schwartzman D.\n",
    "    2. Условия игры: Court и Surface\n",
    "    2. Их рейтинги на начало турнира: WRank, LRank, WPts, LPts\n",
    "    3. Ставки на каждого из игрока на разных площадках: Вet365(B365W, B365L)\n",
    "                                                        Pinnacles Sports (PSW, PSL)\n",
    "                                                        Максимальные ставки (MaxW, MaxL)\n",
    "                                                        Доля побед\n",
    "                                                     \n",
    "  \n",
    "Средние ставки (AvgW, AvgL)\n",
    "Также можно осреднить количество выигранных геймов в каждом сете (W1-W5, L1-L5) и количество выигранных сетов (Wsets, Lsets) по предыдущим 5-ти играм и на этих данных обучать модели"
   ]
  },
  {
   "cell_type": "markdown",
   "metadata": {},
   "source": [
    "Оставим только законченные игры"
   ]
  },
  {
   "cell_type": "code",
   "execution_count": 7,
   "metadata": {},
   "outputs": [],
   "source": [
    "df = df[df['Comment']=='Completed']"
   ]
  },
  {
   "cell_type": "markdown",
   "metadata": {},
   "source": [
    "### Thiem D."
   ]
  },
  {
   "cell_type": "code",
   "execution_count": 8,
   "metadata": {
    "scrolled": false
   },
   "outputs": [
    {
     "data": {
      "text/html": [
       "<div>\n",
       "<style scoped>\n",
       "    .dataframe tbody tr th:only-of-type {\n",
       "        vertical-align: middle;\n",
       "    }\n",
       "\n",
       "    .dataframe tbody tr th {\n",
       "        vertical-align: top;\n",
       "    }\n",
       "\n",
       "    .dataframe thead th {\n",
       "        text-align: right;\n",
       "    }\n",
       "</style>\n",
       "<table border=\"1\" class=\"dataframe\">\n",
       "  <thead>\n",
       "    <tr style=\"text-align: right;\">\n",
       "      <th></th>\n",
       "      <th>Date</th>\n",
       "      <th>Court</th>\n",
       "      <th>Surface</th>\n",
       "      <th>Rank</th>\n",
       "      <th>Pts</th>\n",
       "      <th>Avg1</th>\n",
       "      <th>Avg2</th>\n",
       "      <th>Avg3</th>\n",
       "      <th>Avg4</th>\n",
       "      <th>Avg5</th>\n",
       "      <th>AvgSets</th>\n",
       "      <th>B365</th>\n",
       "      <th>PS</th>\n",
       "      <th>Max</th>\n",
       "      <th>Avg</th>\n",
       "      <th>WinAvg</th>\n",
       "      <th>Win</th>\n",
       "    </tr>\n",
       "  </thead>\n",
       "  <tbody>\n",
       "    <tr>\n",
       "      <th>86</th>\n",
       "      <td>12.01.2015</td>\n",
       "      <td>Outdoor</td>\n",
       "      <td>Hard</td>\n",
       "      <td>39.0</td>\n",
       "      <td>977.0</td>\n",
       "      <td>7.0</td>\n",
       "      <td>4.0</td>\n",
       "      <td>3.0</td>\n",
       "      <td>NaN</td>\n",
       "      <td>NaN</td>\n",
       "      <td>1.0</td>\n",
       "      <td>1.61</td>\n",
       "      <td>1.68</td>\n",
       "      <td>1.68</td>\n",
       "      <td>1.61</td>\n",
       "      <td>NaN</td>\n",
       "      <td>0</td>\n",
       "    </tr>\n",
       "    <tr>\n",
       "      <th>186</th>\n",
       "      <td>20.01.2015</td>\n",
       "      <td>Outdoor</td>\n",
       "      <td>Hard</td>\n",
       "      <td>40.0</td>\n",
       "      <td>977.0</td>\n",
       "      <td>6.0</td>\n",
       "      <td>2.0</td>\n",
       "      <td>3.0</td>\n",
       "      <td>6.0</td>\n",
       "      <td>NaN</td>\n",
       "      <td>1.0</td>\n",
       "      <td>2.75</td>\n",
       "      <td>2.86</td>\n",
       "      <td>3.00</td>\n",
       "      <td>2.75</td>\n",
       "      <td>NaN</td>\n",
       "      <td>0</td>\n",
       "    </tr>\n",
       "    <tr>\n",
       "      <th>376</th>\n",
       "      <td>09.02.2015</td>\n",
       "      <td>Indoor</td>\n",
       "      <td>Hard</td>\n",
       "      <td>47.0</td>\n",
       "      <td>917.0</td>\n",
       "      <td>6.0</td>\n",
       "      <td>6.0</td>\n",
       "      <td>NaN</td>\n",
       "      <td>NaN</td>\n",
       "      <td>NaN</td>\n",
       "      <td>2.0</td>\n",
       "      <td>2.37</td>\n",
       "      <td>2.30</td>\n",
       "      <td>2.75</td>\n",
       "      <td>2.50</td>\n",
       "      <td>NaN</td>\n",
       "      <td>1</td>\n",
       "    </tr>\n",
       "    <tr>\n",
       "      <th>390</th>\n",
       "      <td>11.02.2015</td>\n",
       "      <td>Indoor</td>\n",
       "      <td>Hard</td>\n",
       "      <td>47.0</td>\n",
       "      <td>917.0</td>\n",
       "      <td>1.0</td>\n",
       "      <td>3.0</td>\n",
       "      <td>NaN</td>\n",
       "      <td>NaN</td>\n",
       "      <td>NaN</td>\n",
       "      <td>0.0</td>\n",
       "      <td>1.40</td>\n",
       "      <td>1.52</td>\n",
       "      <td>1.56</td>\n",
       "      <td>1.46</td>\n",
       "      <td>NaN</td>\n",
       "      <td>0</td>\n",
       "    </tr>\n",
       "    <tr>\n",
       "      <th>465</th>\n",
       "      <td>17.02.2015</td>\n",
       "      <td>Indoor</td>\n",
       "      <td>Hard</td>\n",
       "      <td>48.0</td>\n",
       "      <td>897.0</td>\n",
       "      <td>7.0</td>\n",
       "      <td>6.0</td>\n",
       "      <td>NaN</td>\n",
       "      <td>NaN</td>\n",
       "      <td>NaN</td>\n",
       "      <td>2.0</td>\n",
       "      <td>1.66</td>\n",
       "      <td>1.68</td>\n",
       "      <td>1.80</td>\n",
       "      <td>1.67</td>\n",
       "      <td>NaN</td>\n",
       "      <td>1</td>\n",
       "    </tr>\n",
       "  </tbody>\n",
       "</table>\n",
       "</div>"
      ],
      "text/plain": [
       "           Date    Court Surface  Rank    Pts  Avg1  Avg2  Avg3  Avg4  Avg5  \\\n",
       "86   12.01.2015  Outdoor    Hard  39.0  977.0   7.0   4.0   3.0   NaN   NaN   \n",
       "186  20.01.2015  Outdoor    Hard  40.0  977.0   6.0   2.0   3.0   6.0   NaN   \n",
       "376  09.02.2015   Indoor    Hard  47.0  917.0   6.0   6.0   NaN   NaN   NaN   \n",
       "390  11.02.2015   Indoor    Hard  47.0  917.0   1.0   3.0   NaN   NaN   NaN   \n",
       "465  17.02.2015   Indoor    Hard  48.0  897.0   7.0   6.0   NaN   NaN   NaN   \n",
       "\n",
       "     AvgSets  B365    PS   Max   Avg WinAvg  Win  \n",
       "86       1.0  1.61  1.68  1.68  1.61    NaN    0  \n",
       "186      1.0  2.75  2.86  3.00  2.75    NaN    0  \n",
       "376      2.0  2.37  2.30  2.75  2.50    NaN    1  \n",
       "390      0.0  1.40  1.52  1.56  1.46    NaN    0  \n",
       "465      2.0  1.66  1.68  1.80  1.67    NaN    1  "
      ]
     },
     "execution_count": 8,
     "metadata": {},
     "output_type": "execute_result"
    }
   ],
   "source": [
    "#Все игры Thiem D.\n",
    "thiem = df[np.logical_or(df['Winner']=='Thiem D.', df['Loser']=='Thiem D.')]\n",
    "\n",
    "thiem_train_data = pd.DataFrame(columns=['Date', 'Court', 'Surface', 'Rank', 'Pts', \n",
    "                                        'Avg1', 'Avg2', 'Avg3', 'Avg4', 'Avg5', 'AvgSets',\n",
    "                                        'B365', 'PS', 'Max', 'Avg', 'WinAvg', 'Win'])\n",
    "\n",
    "thiem_train_data[['Date', 'Court', 'Surface']] = thiem[['Date', 'Court', 'Surface']]\n",
    "\n",
    "thiem_train_data['Rank'] = thiem.apply(lambda x: x['WRank'] if x['Winner'] == 'Thiem D.' else x['LRank'], axis=1)\n",
    "\n",
    "thiem_train_data['Pts'] = thiem.apply(lambda x: x['WPts'] if x['Winner'] == 'Thiem D.' else x['LPts'],\n",
    "                                      axis=1)\n",
    "\n",
    "for i in range(1,6):\n",
    "    thiem_train_data['Avg'+str(i)] = \\\n",
    "    thiem.apply(lambda x: x['W'+str(i)] if x['Winner'] == 'Thiem D.' \\\n",
    "                else x['L'+str(i)],\n",
    "                axis=1)\n",
    "\n",
    "thiem_train_data['AvgSets'] = \\\n",
    "    thiem.apply(lambda x: x['Wsets'] if x['Winner'] == 'Thiem D.' \\\n",
    "                else x['Lsets'],\n",
    "                axis=1)\n",
    "\n",
    "thiem_train_data['B365'] = \\\n",
    "    thiem.apply(lambda x: x['B365W'] if x['Winner'] == 'Thiem D.' \\\n",
    "                else x['B365L'],\n",
    "                axis=1)\n",
    "\n",
    "thiem_train_data['PS'] = \\\n",
    "    thiem.apply(lambda x: x['PSW'] if x['Winner'] == 'Thiem D.' \\\n",
    "                else x['PSL'],\n",
    "                axis=1)\n",
    "\n",
    "thiem_train_data['Max'] = \\\n",
    "    thiem.apply(lambda x: x['MaxW'] if x['Winner'] == 'Thiem D.' \\\n",
    "                else x['MaxL'],\n",
    "                axis=1)\n",
    "\n",
    "thiem_train_data['Avg'] = \\\n",
    "    thiem.apply(lambda x: float(x['AvgW']) if x['Winner'] == 'Thiem D.' \\\n",
    "                else float(x['AvgL']),\n",
    "                axis=1)\n",
    "\n",
    "thiem_train_data['Win'] = thiem.apply(lambda x: int(x['Winner'] == 'Thiem D.'),\n",
    "                axis=1)\n",
    "\n",
    "thiem_train_data.head()"
   ]
  },
  {
   "cell_type": "code",
   "execution_count": 9,
   "metadata": {},
   "outputs": [
    {
     "data": {
      "text/html": [
       "<div>\n",
       "<style scoped>\n",
       "    .dataframe tbody tr th:only-of-type {\n",
       "        vertical-align: middle;\n",
       "    }\n",
       "\n",
       "    .dataframe tbody tr th {\n",
       "        vertical-align: top;\n",
       "    }\n",
       "\n",
       "    .dataframe thead th {\n",
       "        text-align: right;\n",
       "    }\n",
       "</style>\n",
       "<table border=\"1\" class=\"dataframe\">\n",
       "  <thead>\n",
       "    <tr style=\"text-align: right;\">\n",
       "      <th></th>\n",
       "      <th>Date</th>\n",
       "      <th>Court</th>\n",
       "      <th>Surface</th>\n",
       "      <th>Rank</th>\n",
       "      <th>Pts</th>\n",
       "      <th>Avg1</th>\n",
       "      <th>Avg2</th>\n",
       "      <th>Avg3</th>\n",
       "      <th>Avg4</th>\n",
       "      <th>Avg5</th>\n",
       "      <th>AvgSets</th>\n",
       "      <th>B365</th>\n",
       "      <th>PS</th>\n",
       "      <th>Max</th>\n",
       "      <th>Avg</th>\n",
       "      <th>WinAvg</th>\n",
       "      <th>Win</th>\n",
       "    </tr>\n",
       "  </thead>\n",
       "  <tbody>\n",
       "    <tr>\n",
       "      <th>86</th>\n",
       "      <td>12.01.2015</td>\n",
       "      <td>Outdoor</td>\n",
       "      <td>Hard</td>\n",
       "      <td>39.0</td>\n",
       "      <td>977.0</td>\n",
       "      <td>7.0</td>\n",
       "      <td>4.0</td>\n",
       "      <td>3.0</td>\n",
       "      <td>0.0</td>\n",
       "      <td>0.0</td>\n",
       "      <td>1.0</td>\n",
       "      <td>1.61</td>\n",
       "      <td>1.68</td>\n",
       "      <td>1.68</td>\n",
       "      <td>1.61</td>\n",
       "      <td>0.0</td>\n",
       "      <td>0</td>\n",
       "    </tr>\n",
       "    <tr>\n",
       "      <th>186</th>\n",
       "      <td>20.01.2015</td>\n",
       "      <td>Outdoor</td>\n",
       "      <td>Hard</td>\n",
       "      <td>40.0</td>\n",
       "      <td>977.0</td>\n",
       "      <td>6.0</td>\n",
       "      <td>2.0</td>\n",
       "      <td>3.0</td>\n",
       "      <td>6.0</td>\n",
       "      <td>0.0</td>\n",
       "      <td>1.0</td>\n",
       "      <td>2.75</td>\n",
       "      <td>2.86</td>\n",
       "      <td>3.00</td>\n",
       "      <td>2.75</td>\n",
       "      <td>0.0</td>\n",
       "      <td>0</td>\n",
       "    </tr>\n",
       "    <tr>\n",
       "      <th>376</th>\n",
       "      <td>09.02.2015</td>\n",
       "      <td>Indoor</td>\n",
       "      <td>Hard</td>\n",
       "      <td>47.0</td>\n",
       "      <td>917.0</td>\n",
       "      <td>6.0</td>\n",
       "      <td>6.0</td>\n",
       "      <td>0.0</td>\n",
       "      <td>0.0</td>\n",
       "      <td>0.0</td>\n",
       "      <td>2.0</td>\n",
       "      <td>2.37</td>\n",
       "      <td>2.30</td>\n",
       "      <td>2.75</td>\n",
       "      <td>2.50</td>\n",
       "      <td>0.0</td>\n",
       "      <td>1</td>\n",
       "    </tr>\n",
       "    <tr>\n",
       "      <th>390</th>\n",
       "      <td>11.02.2015</td>\n",
       "      <td>Indoor</td>\n",
       "      <td>Hard</td>\n",
       "      <td>47.0</td>\n",
       "      <td>917.0</td>\n",
       "      <td>1.0</td>\n",
       "      <td>3.0</td>\n",
       "      <td>0.0</td>\n",
       "      <td>0.0</td>\n",
       "      <td>0.0</td>\n",
       "      <td>0.0</td>\n",
       "      <td>1.40</td>\n",
       "      <td>1.52</td>\n",
       "      <td>1.56</td>\n",
       "      <td>1.46</td>\n",
       "      <td>0.0</td>\n",
       "      <td>0</td>\n",
       "    </tr>\n",
       "    <tr>\n",
       "      <th>465</th>\n",
       "      <td>17.02.2015</td>\n",
       "      <td>Indoor</td>\n",
       "      <td>Hard</td>\n",
       "      <td>48.0</td>\n",
       "      <td>897.0</td>\n",
       "      <td>7.0</td>\n",
       "      <td>6.0</td>\n",
       "      <td>0.0</td>\n",
       "      <td>0.0</td>\n",
       "      <td>0.0</td>\n",
       "      <td>2.0</td>\n",
       "      <td>1.66</td>\n",
       "      <td>1.68</td>\n",
       "      <td>1.80</td>\n",
       "      <td>1.67</td>\n",
       "      <td>0.0</td>\n",
       "      <td>1</td>\n",
       "    </tr>\n",
       "  </tbody>\n",
       "</table>\n",
       "</div>"
      ],
      "text/plain": [
       "           Date    Court Surface  Rank    Pts  Avg1  Avg2  Avg3  Avg4  Avg5  \\\n",
       "86   12.01.2015  Outdoor    Hard  39.0  977.0   7.0   4.0   3.0   0.0   0.0   \n",
       "186  20.01.2015  Outdoor    Hard  40.0  977.0   6.0   2.0   3.0   6.0   0.0   \n",
       "376  09.02.2015   Indoor    Hard  47.0  917.0   6.0   6.0   0.0   0.0   0.0   \n",
       "390  11.02.2015   Indoor    Hard  47.0  917.0   1.0   3.0   0.0   0.0   0.0   \n",
       "465  17.02.2015   Indoor    Hard  48.0  897.0   7.0   6.0   0.0   0.0   0.0   \n",
       "\n",
       "     AvgSets  B365    PS   Max   Avg  WinAvg  Win  \n",
       "86       1.0  1.61  1.68  1.68  1.61     0.0    0  \n",
       "186      1.0  2.75  2.86  3.00  2.75     0.0    0  \n",
       "376      2.0  2.37  2.30  2.75  2.50     0.0    1  \n",
       "390      0.0  1.40  1.52  1.56  1.46     0.0    0  \n",
       "465      2.0  1.66  1.68  1.80  1.67     0.0    1  "
      ]
     },
     "execution_count": 9,
     "metadata": {},
     "output_type": "execute_result"
    }
   ],
   "source": [
    "thiem_train_data.fillna(0, inplace=True)\n",
    "\n",
    "# Индексы для осреднения 5-10\n",
    "for i in range(len(thiem_train_data)-1, 5, -1):\n",
    "    for j in range(5,11):\n",
    "        thiem_train_data.iloc[i,j] = np.mean(thiem_train_data.iloc[i-5:i,j])\n",
    "    thiem_train_data.iloc[i,-2] = np.mean(thiem_train_data.iloc[i-5:i,-1])\n",
    "\n",
    "thiem_train_data.head()"
   ]
  },
  {
   "cell_type": "code",
   "execution_count": 10,
   "metadata": {
    "scrolled": true
   },
   "outputs": [],
   "source": [
    "thiem_train_data = pd.concat((thiem_train_data,\n",
    "pd.get_dummies(thiem_train_data[['Court', 'Surface']], prefix=['Court', 'Surface'])), axis=1)"
   ]
  },
  {
   "cell_type": "code",
   "execution_count": 11,
   "metadata": {},
   "outputs": [],
   "source": [
    "thiem_train = thiem_train_data.iloc[:300]\n",
    "thiem_eval = thiem_train_data.iloc[300:]"
   ]
  },
  {
   "cell_type": "code",
   "execution_count": 13,
   "metadata": {},
   "outputs": [
    {
     "name": "stdout",
     "output_type": "stream",
     "text": [
      "0.6736883825417203\n"
     ]
    }
   ],
   "source": [
    "model_thiem = LogisticRegression(C=0.1, random_state=42, solver='liblinear', penalty='l1')\n",
    "\n",
    "X_train = thiem_train[['Rank', 'Pts', 'Avg1', 'Avg2', 'Avg3',\n",
    "       'Avg4', 'Avg5', 'AvgSets', 'B365', 'PS', 'Max', 'Avg', 'WinAvg',\n",
    "       'Court_Indoor', 'Court_Outdoor', 'Surface_Clay', 'Surface_Grass',\n",
    "       'Surface_Hard']]\n",
    "Y_train = thiem_train['Win']\n",
    "\n",
    "model_thiem.fit(X_train, Y_train)\n",
    "\n",
    "print(cross_val_score(model_thiem, X_train, Y_train, scoring='roc_auc', cv=5).mean())"
   ]
  },
  {
   "cell_type": "code",
   "execution_count": 14,
   "metadata": {},
   "outputs": [],
   "source": [
    "X_test = thiem_eval[['Rank', 'Pts', 'Avg1', 'Avg2', 'Avg3',\n",
    "       'Avg4', 'Avg5', 'AvgSets', 'B365', 'PS', 'Max', 'Avg', 'WinAvg',\n",
    "       'Court_Indoor', 'Court_Outdoor', 'Surface_Clay', 'Surface_Grass',\n",
    "       'Surface_Hard']]\n",
    "Y_test = thiem_eval['Win']"
   ]
  },
  {
   "cell_type": "code",
   "execution_count": 15,
   "metadata": {},
   "outputs": [],
   "source": [
    "Y_hat_test = model_thiem.predict(X_test)"
   ]
  },
  {
   "cell_type": "code",
   "execution_count": 16,
   "metadata": {},
   "outputs": [
    {
     "data": {
      "text/plain": [
       "0.8750000000000001"
      ]
     },
     "execution_count": 16,
     "metadata": {},
     "output_type": "execute_result"
    }
   ],
   "source": [
    "f1_score(Y_test, Y_hat_test)"
   ]
  },
  {
   "cell_type": "markdown",
   "metadata": {},
   "source": [
    "Качество модели не ужасное, посмотрим, какова вероятность Thiem D. выиграть в последней игре"
   ]
  },
  {
   "cell_type": "code",
   "execution_count": 17,
   "metadata": {},
   "outputs": [
    {
     "data": {
      "text/plain": [
       "array([[5.000e+00, 5.085e+03, 4.800e+00, 6.000e+00, 2.400e+00, 0.000e+00,\n",
       "        0.000e+00, 1.600e+00, 1.280e+00, 1.320e+00, 1.330e+00, 1.290e+00,\n",
       "        8.000e-01, 1.000e+00, 0.000e+00, 0.000e+00, 0.000e+00, 1.000e+00]])"
      ]
     },
     "execution_count": 17,
     "metadata": {},
     "output_type": "execute_result"
    }
   ],
   "source": [
    "X_test.iloc[-1].values.reshape(1,-1)"
   ]
  },
  {
   "cell_type": "code",
   "execution_count": 19,
   "metadata": {},
   "outputs": [
    {
     "data": {
      "text/plain": [
       "array([[0.22555276, 0.77444724]])"
      ]
     },
     "execution_count": 19,
     "metadata": {},
     "output_type": "execute_result"
    }
   ],
   "source": [
    "model_thiem.predict_proba(X_test.iloc[-1].values.reshape(1,-1))"
   ]
  },
  {
   "cell_type": "code",
   "execution_count": 21,
   "metadata": {},
   "outputs": [
    {
     "data": {
      "text/plain": [
       "array([1])"
      ]
     },
     "execution_count": 21,
     "metadata": {},
     "output_type": "execute_result"
    }
   ],
   "source": [
    "model_thiem.predict(X_test.iloc[-1].values.reshape(1,-1))"
   ]
  },
  {
   "cell_type": "markdown",
   "metadata": {},
   "source": [
    "Как можно видеть, модель уверенно говорит о победе Thiem D."
   ]
  },
  {
   "cell_type": "markdown",
   "metadata": {},
   "source": [
    "### Schwartzman D."
   ]
  },
  {
   "cell_type": "code",
   "execution_count": 22,
   "metadata": {
    "scrolled": false
   },
   "outputs": [],
   "source": [
    "#Все игры Schwartzman D.\n",
    "schwartzman = df[np.logical_or(df['Winner']=='Schwartzman D.', df['Loser']=='Schwartzman D.')]"
   ]
  },
  {
   "cell_type": "code",
   "execution_count": 23,
   "metadata": {},
   "outputs": [],
   "source": [
    "schwartzman_train_data = pd.DataFrame(columns=['Date', 'Court', 'Surface', 'Rank', 'Pts', \n",
    "                                        'Avg1', 'Avg2', 'Avg3', 'Avg4', 'Avg5', 'AvgSets',\n",
    "                                        'B365', 'PS', 'Max', 'Avg', 'WinAvg', 'Win'])"
   ]
  },
  {
   "cell_type": "code",
   "execution_count": 24,
   "metadata": {},
   "outputs": [],
   "source": [
    "schwartzman_train_data[['Date', 'Court', 'Surface']] = schwartzman[['Date', 'Court', 'Surface']]\n",
    "\n",
    "schwartzman_train_data['Rank'] = schwartzman.apply(lambda x: x['WRank'] if x['Winner'] == 'Schwartzman D.' else x['LRank'], axis=1)\n",
    "\n",
    "schwartzman_train_data['Pts'] = schwartzman.apply(lambda x: x['WPts'] if x['Winner'] == 'Schwartzman D.' else x['LPts'],\n",
    "                                      axis=1)"
   ]
  },
  {
   "cell_type": "code",
   "execution_count": 25,
   "metadata": {},
   "outputs": [
    {
     "data": {
      "text/html": [
       "<div>\n",
       "<style scoped>\n",
       "    .dataframe tbody tr th:only-of-type {\n",
       "        vertical-align: middle;\n",
       "    }\n",
       "\n",
       "    .dataframe tbody tr th {\n",
       "        vertical-align: top;\n",
       "    }\n",
       "\n",
       "    .dataframe thead th {\n",
       "        text-align: right;\n",
       "    }\n",
       "</style>\n",
       "<table border=\"1\" class=\"dataframe\">\n",
       "  <thead>\n",
       "    <tr style=\"text-align: right;\">\n",
       "      <th></th>\n",
       "      <th>Date</th>\n",
       "      <th>Court</th>\n",
       "      <th>Surface</th>\n",
       "      <th>Rank</th>\n",
       "      <th>Pts</th>\n",
       "      <th>Avg1</th>\n",
       "      <th>Avg2</th>\n",
       "      <th>Avg3</th>\n",
       "      <th>Avg4</th>\n",
       "      <th>Avg5</th>\n",
       "      <th>AvgSets</th>\n",
       "      <th>B365</th>\n",
       "      <th>PS</th>\n",
       "      <th>Max</th>\n",
       "      <th>Avg</th>\n",
       "      <th>WinAvg</th>\n",
       "      <th>Win</th>\n",
       "    </tr>\n",
       "  </thead>\n",
       "  <tbody>\n",
       "    <tr>\n",
       "      <th>93</th>\n",
       "      <td>13.01.2015</td>\n",
       "      <td>Outdoor</td>\n",
       "      <td>Hard</td>\n",
       "      <td>60.0</td>\n",
       "      <td>775.0</td>\n",
       "      <td>6.0</td>\n",
       "      <td>4.0</td>\n",
       "      <td>6.0</td>\n",
       "      <td>NaN</td>\n",
       "      <td>NaN</td>\n",
       "      <td>2.0</td>\n",
       "      <td>4.00</td>\n",
       "      <td>3.78</td>\n",
       "      <td>4.05</td>\n",
       "      <td>3.62</td>\n",
       "      <td>NaN</td>\n",
       "      <td>1</td>\n",
       "    </tr>\n",
       "    <tr>\n",
       "      <th>101</th>\n",
       "      <td>14.01.2015</td>\n",
       "      <td>Outdoor</td>\n",
       "      <td>Hard</td>\n",
       "      <td>60.0</td>\n",
       "      <td>775.0</td>\n",
       "      <td>6.0</td>\n",
       "      <td>4.0</td>\n",
       "      <td>1.0</td>\n",
       "      <td>NaN</td>\n",
       "      <td>NaN</td>\n",
       "      <td>1.0</td>\n",
       "      <td>3.25</td>\n",
       "      <td>3.41</td>\n",
       "      <td>3.41</td>\n",
       "      <td>3.18</td>\n",
       "      <td>NaN</td>\n",
       "      <td>0</td>\n",
       "    </tr>\n",
       "    <tr>\n",
       "      <th>141</th>\n",
       "      <td>19.01.2015</td>\n",
       "      <td>Outdoor</td>\n",
       "      <td>Hard</td>\n",
       "      <td>59.0</td>\n",
       "      <td>789.0</td>\n",
       "      <td>6.0</td>\n",
       "      <td>5.0</td>\n",
       "      <td>7.0</td>\n",
       "      <td>4.0</td>\n",
       "      <td>NaN</td>\n",
       "      <td>1.0</td>\n",
       "      <td>7.00</td>\n",
       "      <td>7.64</td>\n",
       "      <td>7.64</td>\n",
       "      <td>6.33</td>\n",
       "      <td>NaN</td>\n",
       "      <td>0</td>\n",
       "    </tr>\n",
       "    <tr>\n",
       "      <th>409</th>\n",
       "      <td>10.02.2015</td>\n",
       "      <td>Indoor</td>\n",
       "      <td>Clay</td>\n",
       "      <td>66.0</td>\n",
       "      <td>770.0</td>\n",
       "      <td>7.0</td>\n",
       "      <td>6.0</td>\n",
       "      <td>NaN</td>\n",
       "      <td>NaN</td>\n",
       "      <td>NaN</td>\n",
       "      <td>2.0</td>\n",
       "      <td>1.66</td>\n",
       "      <td>1.76</td>\n",
       "      <td>1.77</td>\n",
       "      <td>1.69</td>\n",
       "      <td>NaN</td>\n",
       "      <td>1</td>\n",
       "    </tr>\n",
       "    <tr>\n",
       "      <th>421</th>\n",
       "      <td>12.02.2015</td>\n",
       "      <td>Indoor</td>\n",
       "      <td>Clay</td>\n",
       "      <td>66.0</td>\n",
       "      <td>770.0</td>\n",
       "      <td>3.0</td>\n",
       "      <td>6.0</td>\n",
       "      <td>2.0</td>\n",
       "      <td>NaN</td>\n",
       "      <td>NaN</td>\n",
       "      <td>1.0</td>\n",
       "      <td>2.10</td>\n",
       "      <td>2.18</td>\n",
       "      <td>2.30</td>\n",
       "      <td>2.13</td>\n",
       "      <td>NaN</td>\n",
       "      <td>0</td>\n",
       "    </tr>\n",
       "  </tbody>\n",
       "</table>\n",
       "</div>"
      ],
      "text/plain": [
       "           Date    Court Surface  Rank    Pts  Avg1  Avg2  Avg3  Avg4  Avg5  \\\n",
       "93   13.01.2015  Outdoor    Hard  60.0  775.0   6.0   4.0   6.0   NaN   NaN   \n",
       "101  14.01.2015  Outdoor    Hard  60.0  775.0   6.0   4.0   1.0   NaN   NaN   \n",
       "141  19.01.2015  Outdoor    Hard  59.0  789.0   6.0   5.0   7.0   4.0   NaN   \n",
       "409  10.02.2015   Indoor    Clay  66.0  770.0   7.0   6.0   NaN   NaN   NaN   \n",
       "421  12.02.2015   Indoor    Clay  66.0  770.0   3.0   6.0   2.0   NaN   NaN   \n",
       "\n",
       "     AvgSets  B365    PS   Max   Avg WinAvg  Win  \n",
       "93       2.0  4.00  3.78  4.05  3.62    NaN    1  \n",
       "101      1.0  3.25  3.41  3.41  3.18    NaN    0  \n",
       "141      1.0  7.00  7.64  7.64  6.33    NaN    0  \n",
       "409      2.0  1.66  1.76  1.77  1.69    NaN    1  \n",
       "421      1.0  2.10  2.18  2.30  2.13    NaN    0  "
      ]
     },
     "execution_count": 25,
     "metadata": {},
     "output_type": "execute_result"
    }
   ],
   "source": [
    "for i in range(1,6):\n",
    "    schwartzman_train_data['Avg'+str(i)] = \\\n",
    "    schwartzman.apply(lambda x: x['W'+str(i)] if x['Winner'] == 'Schwartzman D.' \\\n",
    "                else x['L'+str(i)],\n",
    "                axis=1)\n",
    "\n",
    "schwartzman_train_data['AvgSets'] = \\\n",
    "    schwartzman.apply(lambda x: x['Wsets'] if x['Winner'] == 'Schwartzman D.' \\\n",
    "                else x['Lsets'],\n",
    "                axis=1)\n",
    "\n",
    "schwartzman_train_data['B365'] = \\\n",
    "    schwartzman.apply(lambda x: x['B365W'] if x['Winner'] == 'Schwartzman D.' \\\n",
    "                else x['B365L'],\n",
    "                axis=1)\n",
    "\n",
    "schwartzman_train_data['PS'] = \\\n",
    "    schwartzman.apply(lambda x: x['PSW'] if x['Winner'] == 'Schwartzman D.' \\\n",
    "                else x['PSL'],\n",
    "                axis=1)\n",
    "\n",
    "schwartzman_train_data['Max'] = \\\n",
    "    schwartzman.apply(lambda x: x['MaxW'] if x['Winner'] == 'Schwartzman D.' \\\n",
    "                else x['MaxL'],\n",
    "                axis=1)\n",
    "\n",
    "schwartzman_train_data['Avg'] = \\\n",
    "    schwartzman.apply(lambda x: float(x['AvgW']) if x['Winner'] == 'Schwartzman D.' \\\n",
    "                else float(x['AvgL']),\n",
    "                axis=1)\n",
    "\n",
    "schwartzman_train_data['Win'] = schwartzman.apply(lambda x: int(x['Winner'] == 'Schwartzman D.'),\n",
    "                axis=1)\n",
    "\n",
    "schwartzman_train_data.head()"
   ]
  },
  {
   "cell_type": "code",
   "execution_count": 26,
   "metadata": {},
   "outputs": [
    {
     "data": {
      "text/html": [
       "<div>\n",
       "<style scoped>\n",
       "    .dataframe tbody tr th:only-of-type {\n",
       "        vertical-align: middle;\n",
       "    }\n",
       "\n",
       "    .dataframe tbody tr th {\n",
       "        vertical-align: top;\n",
       "    }\n",
       "\n",
       "    .dataframe thead th {\n",
       "        text-align: right;\n",
       "    }\n",
       "</style>\n",
       "<table border=\"1\" class=\"dataframe\">\n",
       "  <thead>\n",
       "    <tr style=\"text-align: right;\">\n",
       "      <th></th>\n",
       "      <th>Date</th>\n",
       "      <th>Court</th>\n",
       "      <th>Surface</th>\n",
       "      <th>Rank</th>\n",
       "      <th>Pts</th>\n",
       "      <th>Avg1</th>\n",
       "      <th>Avg2</th>\n",
       "      <th>Avg3</th>\n",
       "      <th>Avg4</th>\n",
       "      <th>Avg5</th>\n",
       "      <th>AvgSets</th>\n",
       "      <th>B365</th>\n",
       "      <th>PS</th>\n",
       "      <th>Max</th>\n",
       "      <th>Avg</th>\n",
       "      <th>WinAvg</th>\n",
       "      <th>Win</th>\n",
       "    </tr>\n",
       "  </thead>\n",
       "  <tbody>\n",
       "    <tr>\n",
       "      <th>93</th>\n",
       "      <td>13.01.2015</td>\n",
       "      <td>Outdoor</td>\n",
       "      <td>Hard</td>\n",
       "      <td>60.0</td>\n",
       "      <td>775.0</td>\n",
       "      <td>6.0</td>\n",
       "      <td>4.0</td>\n",
       "      <td>6.0</td>\n",
       "      <td>0.0</td>\n",
       "      <td>0.0</td>\n",
       "      <td>2.0</td>\n",
       "      <td>4.00</td>\n",
       "      <td>3.78</td>\n",
       "      <td>4.05</td>\n",
       "      <td>3.62</td>\n",
       "      <td>0.0</td>\n",
       "      <td>1</td>\n",
       "    </tr>\n",
       "    <tr>\n",
       "      <th>101</th>\n",
       "      <td>14.01.2015</td>\n",
       "      <td>Outdoor</td>\n",
       "      <td>Hard</td>\n",
       "      <td>60.0</td>\n",
       "      <td>775.0</td>\n",
       "      <td>6.0</td>\n",
       "      <td>4.0</td>\n",
       "      <td>1.0</td>\n",
       "      <td>0.0</td>\n",
       "      <td>0.0</td>\n",
       "      <td>1.0</td>\n",
       "      <td>3.25</td>\n",
       "      <td>3.41</td>\n",
       "      <td>3.41</td>\n",
       "      <td>3.18</td>\n",
       "      <td>0.0</td>\n",
       "      <td>0</td>\n",
       "    </tr>\n",
       "    <tr>\n",
       "      <th>141</th>\n",
       "      <td>19.01.2015</td>\n",
       "      <td>Outdoor</td>\n",
       "      <td>Hard</td>\n",
       "      <td>59.0</td>\n",
       "      <td>789.0</td>\n",
       "      <td>6.0</td>\n",
       "      <td>5.0</td>\n",
       "      <td>7.0</td>\n",
       "      <td>4.0</td>\n",
       "      <td>0.0</td>\n",
       "      <td>1.0</td>\n",
       "      <td>7.00</td>\n",
       "      <td>7.64</td>\n",
       "      <td>7.64</td>\n",
       "      <td>6.33</td>\n",
       "      <td>0.0</td>\n",
       "      <td>0</td>\n",
       "    </tr>\n",
       "    <tr>\n",
       "      <th>409</th>\n",
       "      <td>10.02.2015</td>\n",
       "      <td>Indoor</td>\n",
       "      <td>Clay</td>\n",
       "      <td>66.0</td>\n",
       "      <td>770.0</td>\n",
       "      <td>7.0</td>\n",
       "      <td>6.0</td>\n",
       "      <td>0.0</td>\n",
       "      <td>0.0</td>\n",
       "      <td>0.0</td>\n",
       "      <td>2.0</td>\n",
       "      <td>1.66</td>\n",
       "      <td>1.76</td>\n",
       "      <td>1.77</td>\n",
       "      <td>1.69</td>\n",
       "      <td>0.0</td>\n",
       "      <td>1</td>\n",
       "    </tr>\n",
       "    <tr>\n",
       "      <th>421</th>\n",
       "      <td>12.02.2015</td>\n",
       "      <td>Indoor</td>\n",
       "      <td>Clay</td>\n",
       "      <td>66.0</td>\n",
       "      <td>770.0</td>\n",
       "      <td>3.0</td>\n",
       "      <td>6.0</td>\n",
       "      <td>2.0</td>\n",
       "      <td>0.0</td>\n",
       "      <td>0.0</td>\n",
       "      <td>1.0</td>\n",
       "      <td>2.10</td>\n",
       "      <td>2.18</td>\n",
       "      <td>2.30</td>\n",
       "      <td>2.13</td>\n",
       "      <td>0.0</td>\n",
       "      <td>0</td>\n",
       "    </tr>\n",
       "  </tbody>\n",
       "</table>\n",
       "</div>"
      ],
      "text/plain": [
       "           Date    Court Surface  Rank    Pts  Avg1  Avg2  Avg3  Avg4  Avg5  \\\n",
       "93   13.01.2015  Outdoor    Hard  60.0  775.0   6.0   4.0   6.0   0.0   0.0   \n",
       "101  14.01.2015  Outdoor    Hard  60.0  775.0   6.0   4.0   1.0   0.0   0.0   \n",
       "141  19.01.2015  Outdoor    Hard  59.0  789.0   6.0   5.0   7.0   4.0   0.0   \n",
       "409  10.02.2015   Indoor    Clay  66.0  770.0   7.0   6.0   0.0   0.0   0.0   \n",
       "421  12.02.2015   Indoor    Clay  66.0  770.0   3.0   6.0   2.0   0.0   0.0   \n",
       "\n",
       "     AvgSets  B365    PS   Max   Avg  WinAvg  Win  \n",
       "93       2.0  4.00  3.78  4.05  3.62     0.0    1  \n",
       "101      1.0  3.25  3.41  3.41  3.18     0.0    0  \n",
       "141      1.0  7.00  7.64  7.64  6.33     0.0    0  \n",
       "409      2.0  1.66  1.76  1.77  1.69     0.0    1  \n",
       "421      1.0  2.10  2.18  2.30  2.13     0.0    0  "
      ]
     },
     "execution_count": 26,
     "metadata": {},
     "output_type": "execute_result"
    }
   ],
   "source": [
    "schwartzman_train_data.fillna(0, inplace=True)\n",
    "\n",
    "# Индексы для осреднения 5-10\n",
    "for i in range(len(schwartzman_train_data)-1, 5, -1):\n",
    "    for j in range(5,11):\n",
    "        schwartzman_train_data.iloc[i,j] = np.mean(schwartzman_train_data.iloc[i-5:i,j])\n",
    "    schwartzman_train_data.iloc[i,-2] = np.mean(schwartzman_train_data.iloc[i-5:i,-1])\n",
    "\n",
    "schwartzman_train_data.head()"
   ]
  },
  {
   "cell_type": "code",
   "execution_count": 27,
   "metadata": {
    "scrolled": true
   },
   "outputs": [
    {
     "data": {
      "text/plain": [
       "Index(['Date', 'Court', 'Surface', 'Rank', 'Pts', 'Avg1', 'Avg2', 'Avg3',\n",
       "       'Avg4', 'Avg5', 'AvgSets', 'B365', 'PS', 'Max', 'Avg', 'WinAvg', 'Win',\n",
       "       'Court_Indoor', 'Court_Outdoor', 'Surface_Clay', 'Surface_Grass',\n",
       "       'Surface_Hard'],\n",
       "      dtype='object')"
      ]
     },
     "execution_count": 27,
     "metadata": {},
     "output_type": "execute_result"
    }
   ],
   "source": [
    "schwartzman_train_data = pd.concat((schwartzman_train_data,\n",
    "pd.get_dummies(schwartzman_train_data[['Court', 'Surface']], prefix=['Court', 'Surface'])), axis=1)\n",
    "\n",
    "schwartzman_train = schwartzman_train_data.iloc[:230]\n",
    "schwartzman_eval = schwartzman_train_data.iloc[230:]\n",
    "\n",
    "schwartzman_train.columns"
   ]
  },
  {
   "cell_type": "code",
   "execution_count": 28,
   "metadata": {},
   "outputs": [],
   "source": [
    "model_schwartzman = LogisticRegression(C=0.1, random_state=42, solver='liblinear', penalty='l1')"
   ]
  },
  {
   "cell_type": "code",
   "execution_count": 29,
   "metadata": {},
   "outputs": [],
   "source": [
    "X_train = schwartzman_train[['Rank', 'Pts', 'Avg1', 'Avg2', 'Avg3',\n",
    "       'Avg4', 'Avg5', 'AvgSets', 'B365', 'PS', 'Max', 'Avg', 'WinAvg',\n",
    "       'Court_Indoor', 'Court_Outdoor', 'Surface_Clay', 'Surface_Grass',\n",
    "       'Surface_Hard']]\n",
    "Y_train = schwartzman_train['Win']"
   ]
  },
  {
   "cell_type": "code",
   "execution_count": 30,
   "metadata": {},
   "outputs": [
    {
     "data": {
      "text/plain": [
       "LogisticRegression(C=0.1, class_weight=None, dual=False, fit_intercept=True,\n",
       "          intercept_scaling=1, max_iter=100, multi_class='warn',\n",
       "          n_jobs=None, penalty='l1', random_state=42, solver='liblinear',\n",
       "          tol=0.0001, verbose=0, warm_start=False)"
      ]
     },
     "execution_count": 30,
     "metadata": {},
     "output_type": "execute_result"
    }
   ],
   "source": [
    "model_schwartzman.fit(X_train, Y_train)"
   ]
  },
  {
   "cell_type": "code",
   "execution_count": 31,
   "metadata": {},
   "outputs": [
    {
     "data": {
      "text/plain": [
       "0.5533846153846154"
      ]
     },
     "execution_count": 31,
     "metadata": {},
     "output_type": "execute_result"
    }
   ],
   "source": [
    "cross_val_score(model_schwartzman, X_train, Y_train, scoring='roc_auc', cv=5).mean()"
   ]
  },
  {
   "cell_type": "code",
   "execution_count": 32,
   "metadata": {},
   "outputs": [],
   "source": [
    "X_test = schwartzman_eval[['Rank', 'Pts', 'Avg1', 'Avg2', 'Avg3',\n",
    "       'Avg4', 'Avg5', 'AvgSets', 'B365', 'PS', 'Max', 'Avg', 'WinAvg',\n",
    "       'Court_Indoor', 'Court_Outdoor', 'Surface_Clay', 'Surface_Grass',\n",
    "       'Surface_Hard']]\n",
    "Y_test = schwartzman_eval['Win']"
   ]
  },
  {
   "cell_type": "code",
   "execution_count": 34,
   "metadata": {},
   "outputs": [],
   "source": [
    "Y_hat_test = model_schwartzman.predict(X_test)"
   ]
  },
  {
   "cell_type": "code",
   "execution_count": 35,
   "metadata": {},
   "outputs": [
    {
     "data": {
      "text/plain": [
       "0.8"
      ]
     },
     "execution_count": 35,
     "metadata": {},
     "output_type": "execute_result"
    }
   ],
   "source": [
    "f1_score(Y_test, Y_hat_test)"
   ]
  },
  {
   "cell_type": "markdown",
   "metadata": {},
   "source": [
    "Качество модели не ужасное, посмотрим, какова вероятность Schwartzman D. выиграть в последней игре"
   ]
  },
  {
   "cell_type": "code",
   "execution_count": 36,
   "metadata": {},
   "outputs": [
    {
     "data": {
      "text/plain": [
       "array([[1.50e+01, 1.95e+03, 5.80e+00, 6.20e+00, 2.60e+00, 0.00e+00,\n",
       "        0.00e+00, 1.80e+00, 3.75e+00, 3.80e+00, 3.88e+00, 3.63e+00,\n",
       "        8.00e-01, 1.00e+00, 0.00e+00, 0.00e+00, 0.00e+00, 1.00e+00]])"
      ]
     },
     "execution_count": 36,
     "metadata": {},
     "output_type": "execute_result"
    }
   ],
   "source": [
    "X_test.iloc[-1].values.reshape(1,-1)"
   ]
  },
  {
   "cell_type": "code",
   "execution_count": 38,
   "metadata": {},
   "outputs": [
    {
     "data": {
      "text/plain": [
       "array([[0.56571887, 0.43428113]])"
      ]
     },
     "execution_count": 38,
     "metadata": {},
     "output_type": "execute_result"
    }
   ],
   "source": [
    "model_schwartzman.predict_proba(X_test.iloc[-1].values.reshape(1,-1))"
   ]
  },
  {
   "cell_type": "code",
   "execution_count": 40,
   "metadata": {},
   "outputs": [
    {
     "data": {
      "text/plain": [
       "array([0])"
      ]
     },
     "execution_count": 40,
     "metadata": {},
     "output_type": "execute_result"
    }
   ],
   "source": [
    "model_schwartzman.predict(X_test.iloc[-1].values.reshape(1,-1))"
   ]
  },
  {
   "cell_type": "markdown",
   "metadata": {},
   "source": [
    "Как можно видеть, модель не уверенна начсет победы или поражения Schwartzman D."
   ]
  },
  {
   "cell_type": "markdown",
   "metadata": {},
   "source": [
    "### Источники вдохновения"
   ]
  },
  {
   "cell_type": "markdown",
   "metadata": {},
   "source": [
    "1. https://habr.com/ru/post/306944/\n",
    "2. https://habr.com/ru/post/307422/\n",
    "3. https://habr.com/ru/post/456226/"
   ]
  }
 ],
 "metadata": {
  "kernelspec": {
   "display_name": "Python 3",
   "language": "python",
   "name": "python3"
  },
  "language_info": {
   "codemirror_mode": {
    "name": "ipython",
    "version": 3
   },
   "file_extension": ".py",
   "mimetype": "text/x-python",
   "name": "python",
   "nbconvert_exporter": "python",
   "pygments_lexer": "ipython3",
   "version": "3.7.4"
  }
 },
 "nbformat": 4,
 "nbformat_minor": 2
}
